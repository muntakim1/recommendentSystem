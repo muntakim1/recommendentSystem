{
 "cells": [
  {
   "cell_type": "code",
   "execution_count": 1,
   "metadata": {},
   "outputs": [],
   "source": [
    "import pandas as pd\n",
    "import numpy as np\n",
    "from sklearn.feature_extraction.text import CountVectorizer\n",
    "from sklearn.metrics.pairwise import cosine_similarity"
   ]
  },
  {
   "cell_type": "code",
   "execution_count": 4,
   "metadata": {},
   "outputs": [],
   "source": [
    "def get_title_from_index(index):\n",
    "    return df[df.index==index][\"title\"].values[0]\n",
    "def get_index_from_title(title):\n",
    "    return df[df.title==title][\"index\"].values[0]\n",
    "def combine_features(row):\n",
    "    return row['keywords']+ \" \"+ row['cast']+\" \"+row['genres']+\" \"+row[\"director\"]\n"
   ]
  },
  {
   "cell_type": "code",
   "execution_count": 14,
   "metadata": {},
   "outputs": [
    {
     "name": "stdout",
     "output_type": "stream",
     "text": [
      "Avatar\n",
      "Guardians of the Galaxy\n",
      "Aliens\n",
      "Star Wars: Clone Wars: Volume 1\n",
      "Star Trek Into Darkness\n",
      "Star Trek Beyond\n",
      "Alien\n",
      "Lockout\n",
      "Jason X\n",
      "The Helix... Loaded\n",
      "Moonraker\n",
      "Planet of the Apes\n",
      "Galaxy Quest\n",
      "Gravity\n",
      "Alien³\n",
      "Jupiter Ascending\n",
      "The Wolverine\n",
      "Silent Running\n",
      "Zathura: A Space Adventure\n",
      "Trekkies\n",
      "Cargo\n",
      "Wing Commander\n",
      "Star Trek\n",
      "Lost in Space\n",
      "Babylon A.D.\n",
      "The Fifth Element\n",
      "Oblivion\n",
      "Titan A.E.\n",
      "AVP: Alien vs. Predator\n",
      "The Empire Strikes Back\n",
      "Dragonball Evolution\n",
      "Superman Returns\n",
      "Divergent\n",
      "John Carter\n",
      "The Black Hole\n",
      "The Ice Pirates\n",
      "Memoirs of an Invisible Man\n",
      "Starship Troopers\n",
      "The Astronaut's Wife\n",
      "Machete Kills\n",
      "Soldier\n",
      "The Abyss\n",
      "Damnation Alley\n",
      "Men in Black\n",
      "Space Cowboys\n",
      "Space Dogs\n",
      "The Time Machine\n",
      "Sheena\n",
      "Captain America: Civil War\n",
      "Star Trek: Insurrection\n"
     ]
    }
   ],
   "source": [
    "df =pd.read_csv('movie_dataset.csv')\n",
    "df.columns\n",
    "\n",
    "features = ['keywords','cast','genres','director']\n",
    "for feature in features:\n",
    "    df[feature]=df[feature].fillna('')\n",
    "\n",
    "df['combined_features']=df.apply(combine_features,axis=1)\n",
    "\n",
    "cv = CountVectorizer()\n",
    "count_matrix = cv.fit_transform(df['combined_features'])\n",
    "\n",
    "movie_user_likes = 'Avatar'\n",
    "count_similiraty = cosine_similarity(count_matrix)\n",
    "\n",
    "movie_index = get_index_from_title(movie_user_likes)\n",
    "\n",
    "similar_movies = list(enumerate(count_similiraty[movie_index]))\n",
    "\n",
    "sorted_similar_movies = sorted(similar_movies,key=lambda x:x[1],reverse=True)\n",
    "\n",
    "for movie in sorted_similar_movies[:50]:\n",
    "    print(get_title_from_index(movie[0]))\n",
    "    \n",
    "    "
   ]
  }
 ],
 "metadata": {
  "kernelspec": {
   "display_name": "Python 3",
   "language": "python",
   "name": "python3"
  },
  "language_info": {
   "codemirror_mode": {
    "name": "ipython",
    "version": 3
   },
   "file_extension": ".py",
   "mimetype": "text/x-python",
   "name": "python",
   "nbconvert_exporter": "python",
   "pygments_lexer": "ipython3",
   "version": "3.7.4"
  }
 },
 "nbformat": 4,
 "nbformat_minor": 2
}
